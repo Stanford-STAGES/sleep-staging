{
 "cells": [
  {
   "cell_type": "code",
   "execution_count": 18,
   "metadata": {},
   "outputs": [],
   "source": [
    "import os\n",
    "import pickle\n",
    "import pprint\n",
    "from glob import glob\n",
    "os.chdir('/home/users/alexno/sleep-staging')\n",
    "\n",
    "import matplotlib as mpl\n",
    "import matplotlib.pyplot as plt\n",
    "import numpy as np\n",
    "import pandas as pd\n",
    "import seaborn as sns\n",
    "import sklearn\n",
    "from h5py import File\n",
    "\n",
    "from utils.plotting import plot_psg_hypnogram_hypnodensity\n",
    "from utils.plotting import plot_hypnodensity\n",
    "\n",
    "sns.set(style='white', context='poster', rc={'figure.figsize':(14,10)})"
   ]
  },
  {
   "cell_type": "code",
   "execution_count": 3,
   "metadata": {},
   "outputs": [
    {
     "name": "stdout",
     "output_type": "stream",
     "text": [
      "['experiments/massc/avg_kw21_rnn128/20201209_025443/SSC-WSC_test_predictions.pkl',\n",
      " 'experiments/massc/att30/20201124_080609/SSC-WSC_test_predictions.pkl',\n",
      " 'experiments/massc/avg_kw21_rnn128_cyclic/20201212_150902/SSC-WSC_test_predictions.pkl',\n",
      " 'experiments/massc/avg_kw21/20201126_043826/SSC-WSC_test_predictions.pkl']\n"
     ]
    }
   ],
   "source": [
    "available_predictions = glob(\"experiments/**/SSC-WSC_test_predictions.pkl\", recursive=True)\n",
    "pprint.pprint(available_predictions)"
   ]
  },
  {
   "cell_type": "code",
   "execution_count": 4,
   "metadata": {},
   "outputs": [],
   "source": [
    "selected_experiment = available_predictions[-1]\n",
    "with open(selected_experiment, 'rb') as f:\n",
    "    predictions = pickle.load(f)\n",
    "list_studies = list(predictions.keys())"
   ]
  },
  {
   "cell_type": "code",
   "execution_count": 5,
   "metadata": {},
   "outputs": [
    {
     "name": "stdout",
     "output_type": "stream",
     "text": [
      "dict_keys(['true', 'true_label', 'predicted', 'predicted_label', 'stable_sleep', 'logits', 'seq_nr'])\n",
      "logits.shape: (29100, 5)\n",
      "target.shape: (29100,)\n",
      "seqs.shape: (97,)\n",
      "ss.shape: (970,)\n"
     ]
    }
   ],
   "source": [
    "selected_record = 'SSC_6542_1.h5'\n",
    "record = predictions[selected_record]\n",
    "target = record['true'].argmax(-1).repeat(30)\n",
    "logits = record['logits']\n",
    "seqs = record['seq_nr']\n",
    "ss = record['stable_sleep']\n",
    "print(record.keys())\n",
    "print('logits.shape:', logits.shape)\n",
    "print('target.shape:', target.shape)\n",
    "print('seqs.shape:', seqs.shape)\n",
    "print('ss.shape:', ss.shape)"
   ]
  },
  {
   "cell_type": "code",
   "execution_count": 19,
   "metadata": {},
   "outputs": [
    {
     "name": "stdout",
     "output_type": "stream",
     "text": [
      "logits.shape: (1375800, 5)\n",
      "target.shape: (1375800,)\n"
     ]
    }
   ],
   "source": [
    "target = []\n",
    "logits = []\n",
    "for idx, (r, d) in enumerate(predictions.items()):\n",
    "    if idx < 50:\n",
    "        target.append(d['true'].argmax(-1).repeat(30))\n",
    "        logits.append(d['logits'])\n",
    "    else:\n",
    "        break\n",
    "target = np.concatenate(target, axis=0)\n",
    "logits = np.concatenate(logits, axis=0)\n",
    "print('logits.shape:', logits.shape)\n",
    "print('target.shape:', target.shape)"
   ]
  },
  {
   "cell_type": "code",
   "execution_count": null,
   "metadata": {},
   "outputs": [],
   "source": [
    "import umap\n",
    "import umap.plot\n",
    "\n",
    "\n",
    "mapper = umap.UMAP().fit(logits)"
   ]
  },
  {
   "cell_type": "code",
   "execution_count": null,
   "metadata": {},
   "outputs": [],
   "source": [
    "umap.plot.points(mapper, labels=target)"
   ]
  },
  {
   "cell_type": "code",
   "execution_count": null,
   "metadata": {},
   "outputs": [],
   "source": [
    "from sklearn.manifold import TSNE\n",
    "logits_embedded = TSNE(n_components=2, n_jobs=64).fit_transform(logits)\n",
    "print(logits_embedded.shape)\n",
    "\n",
    "plt.figure(dpi=300)\n",
    "hyp_dict = {0: 'W', 1: 'N1', 2: 'N2', 3: 'N3', 4: 'R'}\n",
    "for c in np.unique(target):\n",
    "    plt.scatter(logits_embedded[target == c, 0], logits_embedded[target == c, 1], s=0.5, label=hyp_dict[c])\n",
    "plt.legend()"
   ]
  },
  {
   "cell_type": "code",
   "execution_count": null,
   "metadata": {},
   "outputs": [],
   "source": [
    "plt.figure(dpi=300)\n",
    "for c in np.unique(target):\n",
    "    plt.scatter(logits_embedded[target == c, 0], logits_embedded[target == c, 1], s=0.5, label=c)\n",
    "plt.legend()"
   ]
  },
  {
   "cell_type": "code",
   "execution_count": null,
   "metadata": {},
   "outputs": [],
   "source": []
  }
 ],
 "metadata": {
  "kernelspec": {
   "display_name": "Python 3.7.9 64-bit ('pt1.7': conda)",
   "language": "python",
   "name": "python37964bitpt17condacebbebe64ddc47e485a212b268ff4644"
  },
  "language_info": {
   "codemirror_mode": {
    "name": "ipython",
    "version": 3
   },
   "file_extension": ".py",
   "mimetype": "text/x-python",
   "name": "python",
   "nbconvert_exporter": "python",
   "pygments_lexer": "ipython3",
   "version": "3.7.9"
  }
 },
 "nbformat": 4,
 "nbformat_minor": 4
}
