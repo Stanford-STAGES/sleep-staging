{
 "cells": [
  {
   "cell_type": "code",
   "execution_count": null,
   "metadata": {},
   "outputs": [],
   "source": [
    "%matplotlib inline\n",
    "%load_ext autoreload\n",
    "%autoreload 2"
   ]
  },
  {
   "cell_type": "code",
   "execution_count": null,
   "metadata": {},
   "outputs": [],
   "source": [
    "import os\n",
    "import pickle\n",
    "import pprint\n",
    "from glob import glob\n",
    "# os.chdir('/home/users/alexno/sleep-staging')\n",
    "os.chdir(os.path.expandvars('$HOME/sleep-staging'))\n",
    "\n",
    "import matplotlib as mpl\n",
    "import matplotlib.pyplot as plt\n",
    "import numpy as np\n",
    "import pandas as pd\n",
    "import seaborn as sns\n",
    "from h5py import File\n",
    "\n",
    "\n",
    "from utils.plotting import plot_psg_hypnogram_hypnodensity\n",
    "from utils.plotting import plot_hypnodensity"
   ]
  },
  {
   "cell_type": "code",
   "execution_count": null,
   "metadata": {},
   "outputs": [],
   "source": [
    "df = pd.read_csv('overview_file_cohortsEM-ling1.csv')"
   ]
  },
  {
   "cell_type": "code",
   "execution_count": null,
   "metadata": {},
   "outputs": [],
   "source": [
    "df.keys()"
   ]
  },
  {
   "cell_type": "code",
   "execution_count": null,
   "metadata": {},
   "outputs": [],
   "source": [
    "available_predictions = glob(\"experiments/**/SSC-WSC_test_predictions.pkl\", recursive=True)\n",
    "pprint.pprint(available_predictions)"
   ]
  },
  {
   "cell_type": "code",
   "execution_count": null,
   "metadata": {},
   "outputs": [],
   "source": [
    "selected_experiment = 'experiments/massc/avg_kw21/20201126_043826/SSC-WSC_test_predictions.pkl'\n",
    "# selected_experiment = 'experiments/massc/avg_kw21/20201126_043826/KHC_predictions.pkl'\n",
    "with open(selected_experiment, 'rb') as f:\n",
    "    predictions = pickle.load(f)\n",
    "list_studies = list(predictions.keys())\n",
    "df_preds = pd.read_csv(os.path.join(os.path.dirname(selected_experiment), 'SSC-WSC_test_results.csv'), index_col=0)\n",
    "# df_preds = pd.read_csv(os.path.join(os.path.dirname(selected_experiment), 'KHC_results.csv'), index_col=0)\n",
    "df_preds = pd.merge(left=df_preds, right=df[['ID', 'Diagnosis', 'Label', 'Sleep scoring training data', 'Sleep scoring test data', 'Narcolepsy training data', 'Narcolepsy test data', 'Replication data']], how='left', right_on='ID', left_on='SubjectID')\n",
    "display(df_preds.query('Label == 0').sort_values('Balanced accuracy', ascending=False).head())"
   ]
  },
  {
   "cell_type": "code",
   "execution_count": null,
   "metadata": {},
   "outputs": [],
   "source": [
    "df_preds.loc[df_preds['Sleep scoring test data'] == 1.0].Accuracy.mean()"
   ]
  },
  {
   "cell_type": "code",
   "execution_count": null,
   "metadata": {},
   "outputs": [],
   "source": [
    "selected_experiment = 'experiments/massc/avg_kw21/20201126_043826/SSC-WSC_test_predictions.pkl'\n",
    "with open(selected_experiment, 'rb') as f:\n",
    "    predictions = pickle.load(f)\n",
    "list_studies = list(predictions.keys())\n",
    "df_preds = pd.read_csv(os.path.join(os.path.dirname(selected_experiment), 'SSC-WSC_test_results.csv'), index_col=0)\n",
    "df_preds = pd.merge(left=df_preds, right=df[['ID', 'Diagnosis', 'Label']], how='left', right_on='ID', left_on='SubjectID')\n",
    "display(df_preds.query('Label == 0').sort_values('Balanced accuracy', ascending=False).head())"
   ]
  },
  {
   "cell_type": "markdown",
   "metadata": {},
   "source": [
    "### All Narcolepsy Type 1"
   ]
  },
  {
   "cell_type": "code",
   "execution_count": null,
   "metadata": {},
   "outputs": [],
   "source": [
    "for idx, selected_record in df_preds.query('Label == 1').iterrows():\n",
    "    fileid = selected_record['FileID']\n",
    "    diagnosis = selected_record['Diagnosis'].replace(\"'\", \"\")\n",
    "    acc = selected_record['Accuracy']\n",
    "    record = predictions[fileid]\n",
    "    logits = record['logits']\n",
    "    preds  = record['predicted']\n",
    "    target = record['true']\n",
    "    title = (\"Avg model  |  \" +\n",
    "             \"kw=21  |  \" +\n",
    "             f\"{fileid}  |  \" +\n",
    "             f\"{diagnosis}  |  \" +\n",
    "             f\"Accuracy: {acc:.3f}\")\n",
    "    savepath = f\"hypnodensities/massc-avg_kw21-20201126_043826/wholenight/narco_{fileid.split('.')[0]}.png\"\n",
    "    plot_hypnodensity(\n",
    "        logits,\n",
    "        preds,\n",
    "        target,\n",
    "        title=title,\n",
    "        # save_path=savepath\n",
    "    )\n",
    "    break"
   ]
  },
  {
   "cell_type": "code",
   "execution_count": null,
   "metadata": {},
   "outputs": [],
   "source": [
    "for idx, selected_record in df_preds.query('Label == 1').iterrows():\n",
    "    fileid = selected_record['FileID']\n",
    "    diagnosis = selected_record['Diagnosis'].replace(\"'\", \"\")\n",
    "    acc = selected_record['Accuracy']\n",
    "    record = predictions[fileid]\n",
    "    logits = record['logits']\n",
    "    preds  = record['predicted']\n",
    "    target = record['true']\n",
    "    title = (\"Avg model  |  \" +\n",
    "             \"kw=21  |  \" +\n",
    "             f\"{fileid}  |  \" +\n",
    "             f\"{diagnosis}  |  \" +\n",
    "             f\"Accuracy: {acc:.3f}\")\n",
    "    savepath = f\"hypnodensities/massc-avg_kw21-20201126_043826/wholenight/narco_{fileid.split('.')[0]}.png\"\n",
    "    plot_hypnodensity(\n",
    "        logits,\n",
    "        preds,\n",
    "        target,\n",
    "        title=title,\n",
    "        # save_path=savepath\n",
    "    )"
   ]
  },
  {
   "cell_type": "markdown",
   "metadata": {},
   "source": [
    "### All other hypersomnias"
   ]
  },
  {
   "cell_type": "code",
   "execution_count": null,
   "metadata": {},
   "outputs": [],
   "source": [
    "for idx, (_, selected_record) in enumerate(df_preds.loc[df_preds['Diagnosis'] == \"'OTHER HYPERSOMNIA'\"].sort_values(by='F1', ascending=False).iterrows()):\n",
    "    fileid = selected_record['FileID']\n",
    "    diagnosis = selected_record['Diagnosis'].replace(\"'\", \"\")\n",
    "    acc = selected_record['Accuracy']\n",
    "    record = predictions[fileid]\n",
    "    logits = record['logits']\n",
    "    preds  = record['predicted']\n",
    "    target = record['true']\n",
    "    title = (\"Avg model  |  \" +\n",
    "             \"kw=21  |  \" +\n",
    "             f\"{fileid}  |  \" +\n",
    "             f\"{diagnosis}  |  \" +\n",
    "             f\"Accuracy: {acc:.3f}\")\n",
    "    savepath = f\"hypnodensities/massc-avg_kw21-20201126_043826/wholenight/hypersomnias_{fileid.split('.')[0]}.png\"\n",
    "    plot_hypnodensity(\n",
    "        logits,\n",
    "        preds,\n",
    "        target,\n",
    "        title=title,\n",
    "        save_path=savepath\n",
    "    )"
   ]
  },
  {
   "cell_type": "markdown",
   "metadata": {},
   "source": [
    "### 10 best controls"
   ]
  },
  {
   "cell_type": "code",
   "execution_count": null,
   "metadata": {},
   "outputs": [],
   "source": [
    "for idx, (_, selected_record) in enumerate(df_preds.loc[df_preds['Label'] == 0].sort_values(by='F1', ascending=False).iterrows()):\n",
    "    if idx == 10:\n",
    "        break\n",
    "    fileid = selected_record['FileID']\n",
    "    diagnosis = selected_record['Diagnosis'].replace(\"'\", \"\")\n",
    "    acc = selected_record['Accuracy']\n",
    "    record = predictions[fileid]\n",
    "    logits = record['logits']\n",
    "    preds  = record['predicted']\n",
    "    target = record['true']\n",
    "    title = (\"Avg model  |  \" +\n",
    "             \"kw=21  |  \" +\n",
    "             f\"{fileid}  |  \" +\n",
    "             f\"{diagnosis}  |  \" +\n",
    "             f\"Accuracy: {acc:.3f}\")\n",
    "    savepath = f\"hypnodensities/massc-avg_kw21-20201126_043826/wholenight/control_{fileid.split('.')[0]}.png\"\n",
    "    plot_hypnodensity(\n",
    "        logits,\n",
    "        preds,\n",
    "        target,\n",
    "        title=title,\n",
    "        save_path=savepath\n",
    "    )"
   ]
  },
  {
   "cell_type": "markdown",
   "metadata": {},
   "source": [
    "### 10 worst controls"
   ]
  },
  {
   "cell_type": "code",
   "execution_count": null,
   "metadata": {},
   "outputs": [],
   "source": [
    "for idx, (_, selected_record) in enumerate(df_preds.loc[df_preds['Label'] == 0].sort_values(by='F1', ascending=True).iterrows()):\n",
    "    if idx == 10:\n",
    "        break\n",
    "    fileid = selected_record['FileID']\n",
    "    diagnosis = selected_record['Diagnosis'].replace(\"'\", \"\")\n",
    "    acc = selected_record['Accuracy']\n",
    "    record = predictions[fileid]\n",
    "    logits = record['logits']\n",
    "    preds  = record['predicted']\n",
    "    target = record['true']\n",
    "    title = (\"Avg model  |  \" +\n",
    "             \"kw=21  |  \" +\n",
    "             f\"{fileid}  |  \" +\n",
    "             f\"{diagnosis}  |  \" +\n",
    "             f\"Accuracy: {acc:.3f}\")\n",
    "    savepath = f\"hypnodensities/massc-avg_kw21-20201126_043826/wholenight/control_{fileid.split('.')[0]}.png\"\n",
    "    plot_hypnodensity(\n",
    "        logits,\n",
    "        preds,\n",
    "        target,\n",
    "        title=title,\n",
    "        save_path=savepath\n",
    "    )"
   ]
  },
  {
   "cell_type": "code",
   "execution_count": null,
   "metadata": {},
   "outputs": [],
   "source": [
    "plot_psg_hypnogram_hypnodensity(\n",
    "    selected_record, \n",
    "    record_predictions=record, \n",
    "    seq_idx=20,\n",
    "    interval=10,\n",
    "    save_path=f'{selected_record}-seq20.png'\n",
    ")"
   ]
  },
  {
   "cell_type": "code",
   "execution_count": null,
   "metadata": {},
   "outputs": [],
   "source": [
    "plot_psg_hypnogram_hypnodensity(\n",
    "    selected_record, \n",
    "    record_predictions=record, \n",
    "    seq_idx=45,\n",
    "    interval=5\n",
    ")"
   ]
  }
 ],
 "metadata": {
  "kernelspec": {
   "display_name": "Python 3",
   "language": "python",
   "name": "python3"
  },
  "language_info": {
   "codemirror_mode": {
    "name": "ipython",
    "version": 3
   },
   "file_extension": ".py",
   "mimetype": "text/x-python",
   "name": "python",
   "nbconvert_exporter": "python",
   "pygments_lexer": "ipython3",
   "version": "3.7.9"
  }
 },
 "nbformat": 4,
 "nbformat_minor": 4
}
